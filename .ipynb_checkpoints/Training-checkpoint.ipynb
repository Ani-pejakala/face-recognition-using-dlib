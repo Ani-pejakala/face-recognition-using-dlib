{
 "cells": [
  {
   "cell_type": "code",
   "execution_count": 1,
   "metadata": {},
   "outputs": [],
   "source": [
    "import cv2\n",
    "import numpy as np\n",
    "import os \n",
    "import joblib\n",
    "import face_recognition\n",
    "from imutils import paths\n",
    "import imutils"
   ]
  },
  {
   "cell_type": "code",
   "execution_count": null,
   "metadata": {},
   "outputs": [],
   "source": [
    "def image_resize(image, width = None, height = None, inter = cv2.INTER_AREA):\n",
    "    dim = None\n",
    "    (h, w) = image.shape[:2]\n",
    "    #print(h,w)\n",
    "    if(h>w and h>800):\n",
    "        height=800\n",
    "    elif(w>800):\n",
    "        width=800\n",
    "    #height=800    \n",
    "    if width is None and height is None:\n",
    "        return image\n",
    "    if width is None:\n",
    "        r = height / float(h)\n",
    "        dim = (int(w * r), height)\n",
    "    else:\n",
    "        r = width / float(w)\n",
    "        dim = (width, int(h * r))\n",
    "    #print(dim)\n",
    "    #if (dim[0] >800):\n",
    "        #dim=(int(dim[0]/2),int(dim[1]/2))\n",
    "    resized = cv2.resize(image, dim, interpolation = inter)\n",
    "    return resized"
   ]
  },
  {
   "cell_type": "code",
   "execution_count": 85,
   "metadata": {},
   "outputs": [],
   "source": [
    "#Training\n",
    "knownEncodings = []\n",
    "knownNames = []\n",
    "imagePaths = list(paths.list_images('training'))\n",
    "for (i, imagePath) in enumerate(imagePaths):\n",
    "    name = imagePath.split(os.path.sep)[-2]\n",
    "    img =cv2.imread(imagePath)\n",
    "    img = image_resize(img)\n",
    "   \n",
    "    rgb = cv2.cvtColor(img, cv2.COLOR_BGR2RGB)\n",
    "    boxes=face_recognition.face_locations(rgb)\n",
    "    encodings = face_recognition.face_encodings(rgb, boxes)\n",
    "\n",
    "    for encoding in encodings:\n",
    "            #print(\"Trained face:\",name)\n",
    "          # add each encoding + name to our set of known names and\n",
    "          # encodings\n",
    "            knownEncodings.append(encoding)\n",
    "            knownNames.append(name)\n",
    "    data = {\"encodings\": knownEncodings, \"names\": knownNames}\n",
    "joblib.dump(data,'trained_model.pkl')"
   ]
  },
  {
   "cell_type": "code",
   "execution_count": 39,
   "metadata": {},
   "outputs": [],
   "source": []
  }
 ],
 "metadata": {
  "kernelspec": {
   "display_name": "Python 3",
   "language": "python",
   "name": "python3"
  },
  "language_info": {
   "codemirror_mode": {
    "name": "ipython",
    "version": 3
   },
   "file_extension": ".py",
   "mimetype": "text/x-python",
   "name": "python",
   "nbconvert_exporter": "python",
   "pygments_lexer": "ipython3",
   "version": "3.6.8"
  }
 },
 "nbformat": 4,
 "nbformat_minor": 2
}
